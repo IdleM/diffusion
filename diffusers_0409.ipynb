{
 "cells": [
  {
   "cell_type": "code",
   "execution_count": 1,
   "metadata": {},
   "outputs": [],
   "source": [
    "import torch\n",
    "import torch.nn as nn\n",
    "import torchvision\n",
    "from torch.nn import functional as F\n",
    "from torch.utils.data import DataLoader\n",
    "from diffusers import DDPMScheduler, UNet2DModel\n",
    "from matplotlib import pyplot as plt"
   ]
  },
  {
   "cell_type": "code",
   "execution_count": 2,
   "metadata": {},
   "outputs": [
    {
     "name": "stdout",
     "output_type": "stream",
     "text": [
      "Downloading http://yann.lecun.com/exdb/mnist/train-images-idx3-ubyte.gz\n",
      "Downloading http://yann.lecun.com/exdb/mnist/train-images-idx3-ubyte.gz to data\\MNIST\\raw\\train-images-idx3-ubyte.gz\n"
     ]
    },
    {
     "name": "stderr",
     "output_type": "stream",
     "text": [
      "100%|██████████| 9912422/9912422 [00:04<00:00, 2347896.27it/s]\n"
     ]
    },
    {
     "name": "stdout",
     "output_type": "stream",
     "text": [
      "Extracting data\\MNIST\\raw\\train-images-idx3-ubyte.gz to data\\MNIST\\raw\n",
      "\n",
      "Downloading http://yann.lecun.com/exdb/mnist/train-labels-idx1-ubyte.gz\n",
      "Downloading http://yann.lecun.com/exdb/mnist/train-labels-idx1-ubyte.gz to data\\MNIST\\raw\\train-labels-idx1-ubyte.gz\n"
     ]
    },
    {
     "name": "stderr",
     "output_type": "stream",
     "text": [
      "100%|██████████| 28881/28881 [00:00<00:00, 1031161.47it/s]\n"
     ]
    },
    {
     "name": "stdout",
     "output_type": "stream",
     "text": [
      "Extracting data\\MNIST\\raw\\train-labels-idx1-ubyte.gz to data\\MNIST\\raw\n",
      "\n",
      "Downloading http://yann.lecun.com/exdb/mnist/t10k-images-idx3-ubyte.gz\n",
      "Downloading http://yann.lecun.com/exdb/mnist/t10k-images-idx3-ubyte.gz to data\\MNIST\\raw\\t10k-images-idx3-ubyte.gz\n"
     ]
    },
    {
     "name": "stderr",
     "output_type": "stream",
     "text": [
      "100%|██████████| 1648877/1648877 [00:06<00:00, 249504.69it/s] \n"
     ]
    },
    {
     "name": "stdout",
     "output_type": "stream",
     "text": [
      "Extracting data\\MNIST\\raw\\t10k-images-idx3-ubyte.gz to data\\MNIST\\raw\n",
      "\n",
      "Downloading http://yann.lecun.com/exdb/mnist/t10k-labels-idx1-ubyte.gz\n",
      "Downloading http://yann.lecun.com/exdb/mnist/t10k-labels-idx1-ubyte.gz to data\\MNIST\\raw\\t10k-labels-idx1-ubyte.gz\n"
     ]
    },
    {
     "name": "stderr",
     "output_type": "stream",
     "text": [
      "100%|██████████| 4542/4542 [00:00<00:00, 4555363.17it/s]"
     ]
    },
    {
     "name": "stdout",
     "output_type": "stream",
     "text": [
      "Extracting data\\MNIST\\raw\\t10k-labels-idx1-ubyte.gz to data\\MNIST\\raw\n",
      "\n"
     ]
    },
    {
     "name": "stderr",
     "output_type": "stream",
     "text": [
      "\n"
     ]
    }
   ],
   "source": [
    "dataset = torchvision.datasets.MNIST(root='data',train=True,download=True,transform=torchvision.transforms.ToTensor())\n",
    "train_dataloader = DataLoader(dataset,batch_size=8,shuffle=True)\n",
    "\n",
    "x,y = next(iter(train_dataloader))\n"
   ]
  },
  {
   "cell_type": "code",
   "execution_count": 6,
   "metadata": {},
   "outputs": [
    {
     "name": "stdout",
     "output_type": "stream",
     "text": [
      "Input Shape:  torch.Size([8, 1, 28, 28])\n",
      "Output Shape:  torch.Size([8])\n"
     ]
    }
   ],
   "source": [
    "print('Input Shape: ',x.shape)\n",
    "print('Output Shape: ',y.shape)\n",
    "# plt.imshow(torchvision.utils.make_grid(x)[0],cmap=\"Greys\")"
   ]
  },
  {
   "cell_type": "code",
   "execution_count": 14,
   "metadata": {},
   "outputs": [
    {
     "data": {
      "text/plain": [
       "Text(0.5, 1.0, 'Corrupted Image')"
      ]
     },
     "execution_count": 14,
     "metadata": {},
     "output_type": "execute_result"
    },
    {
     "data": {
      "image/png": "[encoded data removed]",
      "text/plain": [
       "<Figure size 400x150 with 2 Axes>"
      ]
     },
     "metadata": {},
     "output_type": "display_data"
    }
   ],
   "source": [
    "def corrupt(x,amount):\n",
    "    noise = torch.rand_like(x)\n",
    "    amount = amount.view(-1,1,1,1)\n",
    "    return (1 - amount) * x + amount * noise\n",
    "\n",
    "fig, axs = plt.subplots(2,1,figsize=(4,1.5))\n",
    "axs[0].set_title('Original Image')\n",
    "# axs[0].imshow(torchvision.utils.make_grid(x)[0],cmap='gray')\n",
    "\n",
    "amount = torch.linspace(0,1,x.shape[0])\n",
    "nosised_x = corrupt(x,amount)\n",
    "\n",
    "axs[1].set_title('Corrupted Image')\n",
    "# axs[1].imshow(torchvision.utils.make_grid(nosised_x)[0],cmap='gray')"
   ]
  },
  {
   "cell_type": "code",
   "execution_count": 16,
   "metadata": {},
   "outputs": [
    {
     "data": {
      "text/plain": [
       "torch.Size([8, 1, 28, 28])"
      ]
     },
     "execution_count": 16,
     "metadata": {},
     "output_type": "execute_result"
    }
   ],
   "source": [
    "class BasicUNet(nn.Module):\n",
    "    def __init__(self,in_channels=1,out_channels=1):\n",
    "        super().__init__()\n",
    "        self.down_layers = nn.ModuleList([ \n",
    "            # [batch_size,1,28,28] -->[batch_size,32,28,28]\n",
    "            nn.Conv2d(in_channels,32,kernel_size=5,padding=2),\n",
    "            nn.Conv2d(32,64,kernel_size=5,padding=2),\n",
    "            nn.Conv2d(64,64,kernel_size=5,padding=2)])\n",
    "        self.up_layers = nn.ModuleList([\n",
    "            nn.Conv2d(64,64,kernel_size=5,padding=2),\n",
    "            nn.Conv2d(64,32,kernel_size=5,padding=2),\n",
    "            nn.Conv2d(32,out_channels,kernel_size=5,padding=2)])\n",
    "        self.act = nn.SiLU()\n",
    "        self.downscale = nn.MaxPool2d(2)\n",
    "        self.upscale = nn.Upsample(scale_factor=2)\n",
    "    def forward(self,x):\n",
    "        h = []\n",
    "        for i,l in enumerate(self.down_layers):\n",
    "            x = l(x)\n",
    "            x = self.act(x)\n",
    "            if i < 2:\n",
    "                h.append(x)\n",
    "                x = self.downscale(x)\n",
    "            # 第0层\n",
    "            # 卷积、激活、下采样 [1,28,28]-->[32,28,28]-->[32,14,14]\n",
    "            # h[0] [32,28,28]\n",
    "            # 第1层\n",
    "            # 卷积、激活、下采样 [32,14,14]-->[64,14,14]-->[64,7,7]\n",
    "            # h[1] [64,14,14]\n",
    "            # 第2层\n",
    "            # 卷积、激活 [64,7,7]-->[64,7,7]\n",
    "        for i,l in enumerate(self.up_layers):\n",
    "            if i > 0:\n",
    "                x = self.upscale(x)\n",
    "                x += h.pop()\n",
    "            x = self.act(l(x))\n",
    "            # 第0层\n",
    "            # 卷积、激活 [64,7,7]-->[64,7,7]\n",
    "            # 第1层\n",
    "            # 上采样、add、卷积、激活 [64,7,7]-->（[64,14,14]+[64,14,14]-->[64,14,14])-->[32,14,14]\n",
    "            # 第2层\n",
    "            # 上采样、add、卷积、激活 [32,14,14]-->([32,28,28]+[32,28,28]-->[32,28,28])-->[1,28,28]\n",
    "        return x\n",
    "net = BasicUNet()\n",
    "x = torch.randn(8,1,28,28)\n",
    "net(x).shape\n"
   ]
  },
  {
   "cell_type": "code",
   "execution_count": 17,
   "metadata": {},
   "outputs": [
    {
     "data": {
      "text/plain": [
       "309057"
      ]
     },
     "execution_count": 17,
     "metadata": {},
     "output_type": "execute_result"
    }
   ],
   "source": [
    "sum([p.numel()for p in net.parameters()])"
   ]
  },
  {
   "cell_type": "code",
   "execution_count": 19,
   "metadata": {},
   "outputs": [
    {
     "name": "stdout",
     "output_type": "stream",
     "text": [
      "Epoch 1, Loss: 0.02551\n",
      "Epoch 2, Loss: 0.01956\n",
      "Epoch 3, Loss: 0.01813\n"
     ]
    },
    {
     "data": {
      "text/plain": [
       "(0.0, 0.1)"
      ]
     },
     "execution_count": 19,
     "metadata": {},
     "output_type": "execute_result"
    },
    {
     "data": {
      "image/png": "[encoded data removed]",
      "text/plain": [
       "<Figure size 640x480 with 1 Axes>"
      ]
     },
     "metadata": {},
     "output_type": "display_data"
    }
   ],
   "source": [
    "batch_size = 128\n",
    "train_dataloader = train_dataloader = DataLoader(dataset,batch_size=batch_size,shuffle=True)\n",
    "\n",
    "num_epochs = 3\n",
    "net = BasicUNet()\n",
    "device = torch.device(\"cuda:0\" if torch.cuda.is_available() else \"cpu\")\n",
    "net.to(device)\n",
    "loss_fn = nn.MSELoss()\n",
    "opt = torch.optim.Adam(net.parameters(),lr=0.001)\n",
    "losses = []\n",
    "for epoch in range(num_epochs):\n",
    "    for x,y in train_dataloader:\n",
    "        x = x.to(device)\n",
    "        y = y.to(device)\n",
    "        noise_amount = torch.rand(x.shape[0]).to(device) #0~1\n",
    "        noisy_x = corrupt(x,noise_amount)\n",
    "        pred_y = net(noisy_x)  #[batch_size,1,28,28]\n",
    "                               # x [batch_size,1,28,28]\n",
    "        loss = loss_fn(pred_y,x)\n",
    "        opt.zero_grad()\n",
    "        loss.backward()\n",
    "        opt.step()\n",
    "        losses.append(loss.item())\n",
    "    \n",
    "    avg_loss = sum(losses[-len(train_dataloader):])/len(train_dataloader)\n",
    "    print(f\"Epoch {epoch+1}, Loss: {avg_loss:.05f}\")\n",
    "plt.plot(losses)\n",
    "plt.ylim(0,0.1)\n",
    "\n",
    "        "
   ]
  },
  {
   "cell_type": "code",
   "execution_count": null,
   "metadata": {},
   "outputs": [],
   "source": [
    "x,y = next(iter(train_dataloader))\n",
    "x = x[:8]\n",
    "\n",
    "amount = torch.linspace(0,1,x.shape[0])\n",
    "noised_x = corrupt(x,amount)\n",
    "\n",
    "with torch.no_grad():\n",
    "    preds = net(noised_x.to(device)).detach().cpu()\n",
    "fig,axs = plt.subplots(3,1,figsize=(5,2.5))\n",
    "axs[0].set_title('Original')\n",
    "axs[0].imshow(torchvision.utils.make_grid(x)[0].clip(0,1),cmap='gray')\n",
    "\n",
    "axs[1].set_title('Corrupted')\n",
    "axs[1].imshow(torchvision.utils.make_grid(noised_x)[0].clip(0,1),cmap='gray')\n",
    "\n",
    "axs[2].set_title('Predictions')\n",
    "axs[2].imshow(torchvision.utils.make_grid(preds)[0].clip(0,1),cmap='gray');"
   ]
  },
  {
   "cell_type": "code",
   "execution_count": null,
   "metadata": {},
   "outputs": [],
   "source": [
    "n_steps = 5\n",
    "x = torch.rand(8,1,28,28).to(device)\n",
    "step_history = [x.detach().cpu()]\n",
    "pred_output_history = []\n",
    "\n",
    "for i in range(n_steps):\n",
    "    with torch.no_grad():\n",
    "        pred = net(x)\n",
    "    pred_output_history.append(pred.detach().cpu())\n",
    "    mix_factor = 1/(n_steps-i)\n",
    "    x = x*(1-mix_factor) + pred*mix_factor\n",
    "    step_history.append(x.detach().cpu())\n",
    "fig,axs = plt.subplots(n_steps,2,figsize=(9,4),sharex=True)\n",
    "axs[0,0].set_title('Input')\n",
    "axs[0,1].set_title('Output')\n",
    "for i in range(n_steps):\n",
    "    axs[i,0].imshow(torchvision.utils.make_grid(step_history[i])[0].clip(0,1),cmap='gray')\n",
    "    axs[i,1].imshow(torchvision.utils.make_grid(pred_output_history[i])[0].clip(0,1),cmap='gray')"
   ]
  },
  {
   "cell_type": "code",
   "execution_count": null,
   "metadata": {},
   "outputs": [],
   "source": [
    "n_steps = 100\n",
    "x = torch.rand(64,1,28,28).to(device)\n",
    "for i in range(n_steps):\n",
    "    with torch.no_grad():\n",
    "        pred = net(x)\n",
    "    mix_factor = 1 / (n_steps - i)\n",
    "    x = x*(1-mix_factor) + pred*mix_factor \n",
    "fig,ax = plt.subplots(1,1,figsize=(3,3))\n",
    "ax.imshow(torchvision.utils.make_grid(x.detach().cpu(),nrow=8)[0].clip(0,1),cmap='gray')"
   ]
  },
  {
   "cell_type": "code",
   "execution_count": 27,
   "metadata": {},
   "outputs": [
    {
     "ename": "NameError",
     "evalue": "name 'image_size' is not defined",
     "output_type": "error",
     "traceback": [
      "\u001b[1;31m---------------------------------------------------------------------------\u001b[0m",
      "\u001b[1;31mNameError\u001b[0m                                 Traceback (most recent call last)",
      "Cell \u001b[1;32mIn[27], line 5\u001b[0m\n\u001b[0;32m      1\u001b[0m \u001b[38;5;28;01mfrom\u001b[39;00m \u001b[38;5;21;01mdiffusers\u001b[39;00m \u001b[38;5;28;01mimport\u001b[39;00m UNet2DModel\n\u001b[0;32m      3\u001b[0m \u001b[38;5;66;03m# Create a model\u001b[39;00m\n\u001b[0;32m      4\u001b[0m model \u001b[38;5;241m=\u001b[39m UNet2DModel(\n\u001b[1;32m----> 5\u001b[0m     sample_size\u001b[38;5;241m=\u001b[39m\u001b[43mimage_size\u001b[49m,  \u001b[38;5;66;03m# the target image resolution\u001b[39;00m\n\u001b[0;32m      6\u001b[0m     in_channels\u001b[38;5;241m=\u001b[39m\u001b[38;5;241m3\u001b[39m,  \u001b[38;5;66;03m# the number of input channels, 3 for RGB images\u001b[39;00m\n\u001b[0;32m      7\u001b[0m     out_channels\u001b[38;5;241m=\u001b[39m\u001b[38;5;241m3\u001b[39m,  \u001b[38;5;66;03m# the number of output channels\u001b[39;00m\n\u001b[0;32m      8\u001b[0m     layers_per_block\u001b[38;5;241m=\u001b[39m\u001b[38;5;241m2\u001b[39m,  \u001b[38;5;66;03m# how many ResNet layers to use per UNet block\u001b[39;00m\n\u001b[0;32m      9\u001b[0m     block_out_channels\u001b[38;5;241m=\u001b[39m(\u001b[38;5;241m64\u001b[39m, \u001b[38;5;241m128\u001b[39m, \u001b[38;5;241m128\u001b[39m, \u001b[38;5;241m256\u001b[39m),  \u001b[38;5;66;03m# More channels -> more parameters\u001b[39;00m\n\u001b[0;32m     10\u001b[0m     down_block_types\u001b[38;5;241m=\u001b[39m(\n\u001b[0;32m     11\u001b[0m         \u001b[38;5;124m\"\u001b[39m\u001b[38;5;124mDownBlock2D\u001b[39m\u001b[38;5;124m\"\u001b[39m,  \u001b[38;5;66;03m# a regular ResNet downsampling block\u001b[39;00m\n\u001b[0;32m     12\u001b[0m         \u001b[38;5;124m\"\u001b[39m\u001b[38;5;124mDownBlock2D\u001b[39m\u001b[38;5;124m\"\u001b[39m,\n\u001b[0;32m     13\u001b[0m         \u001b[38;5;124m\"\u001b[39m\u001b[38;5;124mAttnDownBlock2D\u001b[39m\u001b[38;5;124m\"\u001b[39m,  \u001b[38;5;66;03m# a ResNet downsampling block with spatial self-attention\u001b[39;00m\n\u001b[0;32m     14\u001b[0m         \u001b[38;5;124m\"\u001b[39m\u001b[38;5;124mAttnDownBlock2D\u001b[39m\u001b[38;5;124m\"\u001b[39m,\n\u001b[0;32m     15\u001b[0m     ),\n\u001b[0;32m     16\u001b[0m     up_block_types\u001b[38;5;241m=\u001b[39m(\n\u001b[0;32m     17\u001b[0m         \u001b[38;5;124m\"\u001b[39m\u001b[38;5;124mAttnUpBlock2D\u001b[39m\u001b[38;5;124m\"\u001b[39m,\n\u001b[0;32m     18\u001b[0m         \u001b[38;5;124m\"\u001b[39m\u001b[38;5;124mAttnUpBlock2D\u001b[39m\u001b[38;5;124m\"\u001b[39m,  \u001b[38;5;66;03m# a ResNet upsampling block with spatial self-attention\u001b[39;00m\n\u001b[0;32m     19\u001b[0m         \u001b[38;5;124m\"\u001b[39m\u001b[38;5;124mUpBlock2D\u001b[39m\u001b[38;5;124m\"\u001b[39m,\n\u001b[0;32m     20\u001b[0m         \u001b[38;5;124m\"\u001b[39m\u001b[38;5;124mUpBlock2D\u001b[39m\u001b[38;5;124m\"\u001b[39m,  \u001b[38;5;66;03m# a regular ResNet upsampling block\u001b[39;00m\n\u001b[0;32m     21\u001b[0m     ),\n\u001b[0;32m     22\u001b[0m )\n\u001b[0;32m     23\u001b[0m model\u001b[38;5;241m.\u001b[39mto(device);\n",
      "\u001b[1;31mNameError\u001b[0m: name 'image_size' is not defined"
     ]
    }
   ],
   "source": [
    "from diffusers import UNet2DModel\n",
    "\n",
    "# Create a model\n",
    "model = UNet2DModel(\n",
    "    sample_size=image_size,  # the target image resolution\n",
    "    in_channels=3,  # the number of input channels, 3 for RGB images\n",
    "    out_channels=3,  # the number of output channels\n",
    "    layers_per_block=2,  # how many ResNet layers to use per UNet block\n",
    "    block_out_channels=(64, 128, 128, 256),  # More channels -> more parameters\n",
    "    down_block_types=(\n",
    "        \"DownBlock2D\",  # a regular ResNet downsampling block\n",
    "        \"DownBlock2D\",\n",
    "        \"AttnDownBlock2D\",  # a ResNet downsampling block with spatial self-attention\n",
    "        \"AttnDownBlock2D\",\n",
    "    ),\n",
    "    up_block_types=(\n",
    "        \"AttnUpBlock2D\",\n",
    "        \"AttnUpBlock2D\",  # a ResNet upsampling block with spatial self-attention\n",
    "        \"UpBlock2D\",\n",
    "        \"UpBlock2D\",  # a regular ResNet upsampling block\n",
    "    ),\n",
    ")\n",
    "model.to(device);"
   ]
  }
 ],
 "metadata": {
  "kernelspec": {
   "display_name": "base",
   "language": "python",
   "name": "python3"
  },
  "language_info": {
   "codemirror_mode": {
    "name": "ipython",
    "version": 3
   },
   "file_extension": ".py",
   "mimetype": "text/x-python",
   "name": "python",
   "nbconvert_exporter": "python",
   "pygments_lexer": "ipython3",
   "version": "3.11.5"
  }
 },
 "nbformat": 4,
 "nbformat_minor": 2
}
